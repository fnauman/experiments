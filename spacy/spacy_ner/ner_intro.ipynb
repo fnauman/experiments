{
 "cells": [
  {
   "cell_type": "markdown",
   "metadata": {},
   "source": [
    "# Spacy exploration"
   ]
  },
  {
   "cell_type": "markdown",
   "metadata": {},
   "source": [
    "TODO:\n",
    "\n",
    "- ~Explore RoBERTa for NER.~\n",
    "- ~Try text examples that are more complex and derived from the fashion domain.~\n",
    "\n",
    "Experiment status:\n",
    "\n",
    "(Oct. 18th) T-shirt is not being recognized as category, 'white and pink stripes' contains color and pattern information that is not being recognized. Stains and pilling also not picked up, but this is not surprising."
   ]
  },
  {
   "cell_type": "code",
   "execution_count": 4,
   "metadata": {},
   "outputs": [],
   "source": [
    "import spacy\n",
    "from spacy import displacy\n",
    "\n",
    "\n",
    "# spacy.cli.download(\"en_core_web_sm\")\n",
    "# spacy.cli.download(\"en_core_web_trf\")"
   ]
  },
  {
   "cell_type": "markdown",
   "metadata": {},
   "source": [
    "## Choose model: Vanilla small English model vs transformer (RoBERTa)"
   ]
  },
  {
   "cell_type": "code",
   "execution_count": 19,
   "metadata": {},
   "outputs": [
    {
     "name": "stdout",
     "output_type": "stream",
     "text": [
      "A DET det \n",
      "H&M PROPN compound ORG\n",
      "t NOUN compound \n",
      "- PUNCT punct \n",
      "shirt NOUN ROOT \n",
      "for ADP prep \n",
      "ladies NOUN pobj \n",
      ", PUNCT punct \n",
      "size NOUN compound \n",
      "xl NOUN appos \n",
      ", PUNCT punct \n",
      "couple NOUN appos \n",
      "of ADP prep \n",
      "stains NOUN pobj \n",
      ", PUNCT punct \n",
      "pilling NOUN appos \n",
      "1 NUM nummod CARDINAL\n",
      ", PUNCT punct \n",
      "condition NOUN appos \n",
      "3 NUM nummod CARDINAL\n",
      ", PUNCT punct \n",
      "white ADJ amod \n",
      "and CCONJ cc \n",
      "pink ADJ conj \n",
      "stripes NOUN appos \n",
      ", PUNCT punct \n",
      "100 NUM nummod PERCENT\n",
      "% NOUN compound PERCENT\n",
      "cotton NOUN appos \n",
      ", PUNCT punct \n",
      "made VERB acl \n",
      "in ADP prep \n",
      "China PROPN pobj GPE\n",
      ", PUNCT punct \n",
      "2019 NUM npadvmod DATE\n",
      ", PUNCT punct \n",
      "$ SYM nmod \n",
      "5.00 NUM appos MONEY\n",
      "\n",
      " SPACE dep \n"
     ]
    }
   ],
   "source": [
    "# nlp = spacy.load('en_core_web_sm')\n",
    "nlp = spacy.load('en_core_web_trf')\n",
    "# doc = nlp(u'Tesla is looking at buying U.S. startup for $6 million')\n",
    "fashion_text = \"\"\"A H&M t-shirt for ladies, size xl, couple of stains, pilling 1, condition 3, white and pink stripes, 100% cotton, made in China, 2019, $5.00\n",
    "\"\"\"\n",
    "doc = nlp(fashion_text)\n",
    "\n",
    "\n",
    "for token in doc:\n",
    "    print(token.text, token.pos_, token.dep_, token.ent_type_)\n",
    "    # print(dir(token))"
   ]
  },
  {
   "cell_type": "code",
   "execution_count": 3,
   "metadata": {},
   "outputs": [
    {
     "data": {
      "text/html": [
       "<span class=\"tex2jax_ignore\"><div class=\"entities\" style=\"line-height: 2.5; direction: ltr\">A \n",
       "<mark class=\"entity\" style=\"background: #7aecec; padding: 0.45em 0.6em; margin: 0 0.25em; line-height: 1; border-radius: 0.35em;\">\n",
       "    H&amp;M\n",
       "    <span style=\"font-size: 0.8em; font-weight: bold; line-height: 1; border-radius: 0.35em; vertical-align: middle; margin-left: 0.5rem\">ORG</span>\n",
       "</mark>\n",
       " t-shirt for ladies, size small, couple of stains, pilling \n",
       "<mark class=\"entity\" style=\"background: #e4e7d2; padding: 0.45em 0.6em; margin: 0 0.25em; line-height: 1; border-radius: 0.35em;\">\n",
       "    1\n",
       "    <span style=\"font-size: 0.8em; font-weight: bold; line-height: 1; border-radius: 0.35em; vertical-align: middle; margin-left: 0.5rem\">CARDINAL</span>\n",
       "</mark>\n",
       ", white and pink stripes, \n",
       "<mark class=\"entity\" style=\"background: #e4e7d2; padding: 0.45em 0.6em; margin: 0 0.25em; line-height: 1; border-radius: 0.35em;\">\n",
       "    100%\n",
       "    <span style=\"font-size: 0.8em; font-weight: bold; line-height: 1; border-radius: 0.35em; vertical-align: middle; margin-left: 0.5rem\">PERCENT</span>\n",
       "</mark>\n",
       " cotton, made in \n",
       "<mark class=\"entity\" style=\"background: #feca74; padding: 0.45em 0.6em; margin: 0 0.25em; line-height: 1; border-radius: 0.35em;\">\n",
       "    China\n",
       "    <span style=\"font-size: 0.8em; font-weight: bold; line-height: 1; border-radius: 0.35em; vertical-align: middle; margin-left: 0.5rem\">GPE</span>\n",
       "</mark>\n",
       ", \n",
       "<mark class=\"entity\" style=\"background: #bfe1d9; padding: 0.45em 0.6em; margin: 0 0.25em; line-height: 1; border-radius: 0.35em;\">\n",
       "    2019\n",
       "    <span style=\"font-size: 0.8em; font-weight: bold; line-height: 1; border-radius: 0.35em; vertical-align: middle; margin-left: 0.5rem\">DATE</span>\n",
       "</mark>\n",
       ", $\n",
       "<mark class=\"entity\" style=\"background: #e4e7d2; padding: 0.45em 0.6em; margin: 0 0.25em; line-height: 1; border-radius: 0.35em;\">\n",
       "    5.00\n",
       "    <span style=\"font-size: 0.8em; font-weight: bold; line-height: 1; border-radius: 0.35em; vertical-align: middle; margin-left: 0.5rem\">MONEY</span>\n",
       "</mark>\n",
       "</br></div></span>"
      ],
      "text/plain": [
       "<IPython.core.display.HTML object>"
      ]
     },
     "metadata": {},
     "output_type": "display_data"
    }
   ],
   "source": [
    "# displacy.serve(doc, style=\"ent\")\n",
    "\n",
    "# For Jupyter Notebook\n",
    "displacy.render(doc, style=\"ent\")"
   ]
  },
  {
   "cell_type": "markdown",
   "metadata": {},
   "source": [
    "## Using a `Matcher`"
   ]
  },
  {
   "cell_type": "code",
   "execution_count": 24,
   "metadata": {},
   "outputs": [],
   "source": [
    "from spacy.matcher import Matcher\n",
    "\n",
    "matcher = Matcher(nlp.vocab)\n",
    "\n",
    "# Define patterns\n",
    "brand_pattern = [{\"LOWER\": {\"IN\": [\"h&m\", \"zara\", \"nike\"]}}]\n",
    "size_pattern = [{\"LOWER\": {\"IN\": [\"small\", \"medium\", \"large\", \"xl\", \"40\", \"42\"]}}]\n",
    "# condition_pattern = [{\"IS_DIGIT\": True, {\"IN\": [\"1\", \"2\", \"3\", \"4\", \"5\"]}}]\n",
    "# condition_pattern = [{\"LIKE_NUM\": True, \"ORTH\": {\"IN\": [\"1\", \"2\", \"3\", \"4\", \"5\"]}}]\n",
    "condition_pattern = [{\"LOWER\": \"condition\"}, {\"LIKE_NUM\": True, \"ORTH\": {\"IN\": [\"1\", \"2\", \"3\", \"4\", \"5\"]}}]\n",
    "\n",
    "# Add patterns to matcher\n",
    "matcher.add(\"BRAND\", [brand_pattern])\n",
    "matcher.add(\"SIZE\", [size_pattern])\n",
    "matcher.add(\"CONDITION\", [condition_pattern])"
   ]
  },
  {
   "cell_type": "code",
   "execution_count": 26,
   "metadata": {},
   "outputs": [
    {
     "name": "stdout",
     "output_type": "stream",
     "text": [
      "BRAND: H&M\n",
      "SIZE: xl\n",
      "CONDITION: 3\n"
     ]
    }
   ],
   "source": [
    "text = \"This is an H&M t-shirt, size medium, condition 4.\"\n",
    "# doc = nlp(text)\n",
    "doc = nlp(fashion_text)\n",
    "matches = matcher(doc)\n",
    "\n",
    "# Extract matched entities\n",
    "for match_id, start, end in matches:\n",
    "    string_id = nlp.vocab.strings[match_id]\n",
    "    span = doc[start:end]\n",
    "    print(f\"{string_id}: {span[-1].text}\")"
   ]
  },
  {
   "cell_type": "code",
   "execution_count": null,
   "metadata": {},
   "outputs": [],
   "source": []
  }
 ],
 "metadata": {
  "kernelspec": {
   "display_name": "huggingface",
   "language": "python",
   "name": "python3"
  },
  "language_info": {
   "codemirror_mode": {
    "name": "ipython",
    "version": 3
   },
   "file_extension": ".py",
   "mimetype": "text/x-python",
   "name": "python",
   "nbconvert_exporter": "python",
   "pygments_lexer": "ipython3",
   "version": "3.11.5"
  }
 },
 "nbformat": 4,
 "nbformat_minor": 2
}
